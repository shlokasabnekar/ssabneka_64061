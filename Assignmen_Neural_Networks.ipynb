{
  "nbformat": 4,
  "nbformat_minor": 0,
  "metadata": {
    "colab": {
      "provenance": []
    },
    "kernelspec": {
      "name": "python3",
      "display_name": "Python 3"
    },
    "language_info": {
      "name": "python"
    }
  },
  "cells": [
    {
      "cell_type": "code",
      "source": [
        "# Importing the IMDB dataset from TensorFlow\n",
        "from tensorflow.keras.datasets import imdb\n",
        "\n",
        "# Loading the dataset with a vocabulary size limit of 10,000 words\n",
        "(review_train, sentiment_train), (review_test, sentiment_test) = imdb.load_data(num_words=10000)\n",
        "\n",
        "# Displaying the first review in the training set\n",
        "review_train[0]\n"
      ],
      "metadata": {
        "colab": {
          "base_uri": "https://localhost:8080/"
        },
        "id": "djHnWYS6kfAd",
        "outputId": "0b35b493-0cb3-4f71-d103-a6f2c505819b"
      },
      "execution_count": 29,
      "outputs": [
        {
          "output_type": "execute_result",
          "data": {
            "text/plain": [
              "[1,\n",
              " 14,\n",
              " 22,\n",
              " 16,\n",
              " 43,\n",
              " 530,\n",
              " 973,\n",
              " 1622,\n",
              " 1385,\n",
              " 65,\n",
              " 458,\n",
              " 4468,\n",
              " 66,\n",
              " 3941,\n",
              " 4,\n",
              " 173,\n",
              " 36,\n",
              " 256,\n",
              " 5,\n",
              " 25,\n",
              " 100,\n",
              " 43,\n",
              " 838,\n",
              " 112,\n",
              " 50,\n",
              " 670,\n",
              " 2,\n",
              " 9,\n",
              " 35,\n",
              " 480,\n",
              " 284,\n",
              " 5,\n",
              " 150,\n",
              " 4,\n",
              " 172,\n",
              " 112,\n",
              " 167,\n",
              " 2,\n",
              " 336,\n",
              " 385,\n",
              " 39,\n",
              " 4,\n",
              " 172,\n",
              " 4536,\n",
              " 1111,\n",
              " 17,\n",
              " 546,\n",
              " 38,\n",
              " 13,\n",
              " 447,\n",
              " 4,\n",
              " 192,\n",
              " 50,\n",
              " 16,\n",
              " 6,\n",
              " 147,\n",
              " 2025,\n",
              " 19,\n",
              " 14,\n",
              " 22,\n",
              " 4,\n",
              " 1920,\n",
              " 4613,\n",
              " 469,\n",
              " 4,\n",
              " 22,\n",
              " 71,\n",
              " 87,\n",
              " 12,\n",
              " 16,\n",
              " 43,\n",
              " 530,\n",
              " 38,\n",
              " 76,\n",
              " 15,\n",
              " 13,\n",
              " 1247,\n",
              " 4,\n",
              " 22,\n",
              " 17,\n",
              " 515,\n",
              " 17,\n",
              " 12,\n",
              " 16,\n",
              " 626,\n",
              " 18,\n",
              " 2,\n",
              " 5,\n",
              " 62,\n",
              " 386,\n",
              " 12,\n",
              " 8,\n",
              " 316,\n",
              " 8,\n",
              " 106,\n",
              " 5,\n",
              " 4,\n",
              " 2223,\n",
              " 5244,\n",
              " 16,\n",
              " 480,\n",
              " 66,\n",
              " 3785,\n",
              " 33,\n",
              " 4,\n",
              " 130,\n",
              " 12,\n",
              " 16,\n",
              " 38,\n",
              " 619,\n",
              " 5,\n",
              " 25,\n",
              " 124,\n",
              " 51,\n",
              " 36,\n",
              " 135,\n",
              " 48,\n",
              " 25,\n",
              " 1415,\n",
              " 33,\n",
              " 6,\n",
              " 22,\n",
              " 12,\n",
              " 215,\n",
              " 28,\n",
              " 77,\n",
              " 52,\n",
              " 5,\n",
              " 14,\n",
              " 407,\n",
              " 16,\n",
              " 82,\n",
              " 2,\n",
              " 8,\n",
              " 4,\n",
              " 107,\n",
              " 117,\n",
              " 5952,\n",
              " 15,\n",
              " 256,\n",
              " 4,\n",
              " 2,\n",
              " 7,\n",
              " 3766,\n",
              " 5,\n",
              " 723,\n",
              " 36,\n",
              " 71,\n",
              " 43,\n",
              " 530,\n",
              " 476,\n",
              " 26,\n",
              " 400,\n",
              " 317,\n",
              " 46,\n",
              " 7,\n",
              " 4,\n",
              " 2,\n",
              " 1029,\n",
              " 13,\n",
              " 104,\n",
              " 88,\n",
              " 4,\n",
              " 381,\n",
              " 15,\n",
              " 297,\n",
              " 98,\n",
              " 32,\n",
              " 2071,\n",
              " 56,\n",
              " 26,\n",
              " 141,\n",
              " 6,\n",
              " 194,\n",
              " 7486,\n",
              " 18,\n",
              " 4,\n",
              " 226,\n",
              " 22,\n",
              " 21,\n",
              " 134,\n",
              " 476,\n",
              " 26,\n",
              " 480,\n",
              " 5,\n",
              " 144,\n",
              " 30,\n",
              " 5535,\n",
              " 18,\n",
              " 51,\n",
              " 36,\n",
              " 28,\n",
              " 224,\n",
              " 92,\n",
              " 25,\n",
              " 104,\n",
              " 4,\n",
              " 226,\n",
              " 65,\n",
              " 16,\n",
              " 38,\n",
              " 1334,\n",
              " 88,\n",
              " 12,\n",
              " 16,\n",
              " 283,\n",
              " 5,\n",
              " 16,\n",
              " 4472,\n",
              " 113,\n",
              " 103,\n",
              " 32,\n",
              " 15,\n",
              " 16,\n",
              " 5345,\n",
              " 19,\n",
              " 178,\n",
              " 32]"
            ]
          },
          "metadata": {},
          "execution_count": 29
        }
      ]
    },
    {
      "cell_type": "code",
      "source": [
        "# Displaying the first label in the training set\n",
        "sentiment_train[0]\n"
      ],
      "metadata": {
        "colab": {
          "base_uri": "https://localhost:8080/"
        },
        "id": "UyDnwzPllJjl",
        "outputId": "f83a5390-2d5c-420f-cc9b-f0e1a204183d"
      },
      "execution_count": 30,
      "outputs": [
        {
          "output_type": "execute_result",
          "data": {
            "text/plain": [
              "1"
            ]
          },
          "metadata": {},
          "execution_count": 30
        }
      ]
    },
    {
      "cell_type": "code",
      "source": [
        "# Finding the maximum index value in the dataset\n",
        "max([max(sequence) for sequence in review_train])\n"
      ],
      "metadata": {
        "colab": {
          "base_uri": "https://localhost:8080/"
        },
        "id": "CknqSvmKlZg7",
        "outputId": "485c534e-a3f9-42d8-8478-89554277ca47"
      },
      "execution_count": 31,
      "outputs": [
        {
          "output_type": "execute_result",
          "data": {
            "text/plain": [
              "9999"
            ]
          },
          "metadata": {},
          "execution_count": 31
        }
      ]
    },
    {
      "cell_type": "code",
      "source": [
        "# Decoding reviews back to text\n",
        "word_mapping = imdb.get_word_index()\n",
        "reverse_word_mapping = {value: key for key, value in word_mapping.items()}\n",
        "decoded_text = \" \".join([reverse_word_mapping.get(i - 3, \"?\") for i in review_train[0]])\n"
      ],
      "metadata": {
        "id": "OQ6wLHH0lmyL"
      },
      "execution_count": 32,
      "outputs": []
    },
    {
      "cell_type": "code",
      "source": [
        "# Preparing the data\n",
        "# Encoding the integer sequences using multi-hot encoding\n",
        "import numpy as np\n",
        "\n",
        "def encode_sequences(sequences, dimension=10000):\n",
        "    encoded_results = np.zeros((len(sequences), dimension))\n",
        "    for i, sequence in enumerate(sequences):\n",
        "        for j in sequence:\n",
        "            encoded_results[i, j] = 1.\n",
        "    return encoded_results\n",
        "\n",
        "x_review_train = encode_sequences(review_train)\n",
        "x_review_test = encode_sequences(review_test)\n"
      ],
      "metadata": {
        "id": "ws8bqDKOmgfB"
      },
      "execution_count": 33,
      "outputs": []
    },
    {
      "cell_type": "code",
      "source": [
        "# Displaying the first encoded training review\n",
        "x_review_train[0]\n"
      ],
      "metadata": {
        "colab": {
          "base_uri": "https://localhost:8080/"
        },
        "id": "mMaqiQUumvJe",
        "outputId": "abace645-9848-494e-92d7-457197445624"
      },
      "execution_count": 34,
      "outputs": [
        {
          "output_type": "execute_result",
          "data": {
            "text/plain": [
              "array([0., 1., 1., ..., 0., 0., 0.])"
            ]
          },
          "metadata": {},
          "execution_count": 34
        }
      ]
    },
    {
      "cell_type": "code",
      "source": [
        "# Converting labels to float32 arrays\n",
        "y_sentiment_train = np.asarray(sentiment_train).astype(\"float32\")\n",
        "y_sentiment_test = np.asarray(sentiment_test).astype(\"float32\")\n"
      ],
      "metadata": {
        "id": "pz0Q6nY5nJdk"
      },
      "execution_count": 35,
      "outputs": []
    },
    {
      "cell_type": "code",
      "source": [
        "# BUILDING THE MODEL\n",
        "# Model definition\n",
        "# Using 3 layers with 64 nodes each and \"tanh\" as the activation function\n",
        "# The ReLU function ranges from 0 to infinity, making it unsuitable for cases where negative values are important\n",
        "# The Tanh function, with a range of -1 to +1 and zero as the midpoint, is effective for models handling both positive and negative values\n",
        "\n",
        "from tensorflow import keras\n",
        "from tensorflow.keras import layers\n",
        "from tensorflow.keras import regularizers\n",
        "\n",
        "sentiment_model = keras.Sequential([\n",
        "    layers.Dense(64, kernel_regularizer=regularizers.l2(0.005), activation=\"tanh\"),\n",
        "    layers.Dense(64, activation=\"tanh\"),\n",
        "    layers.Dropout(0.5),\n",
        "    layers.Dense(64, activation=\"tanh\"),\n",
        "    layers.Dropout(0.5),\n",
        "    layers.Dense(1, activation=\"sigmoid\")\n",
        "])\n"
      ],
      "metadata": {
        "id": "VavctBnpnepr"
      },
      "execution_count": 38,
      "outputs": []
    },
    {
      "cell_type": "code",
      "source": [
        "# Compiling the model\n",
        "sentiment_model.compile(optimizer=\"rmsprop\",\n",
        "                        loss=\"mse\",\n",
        "                        metrics=[\"accuracy\"])\n"
      ],
      "metadata": {
        "id": "LENaE2Zbnukv"
      },
      "execution_count": 39,
      "outputs": []
    },
    {
      "cell_type": "code",
      "source": [
        "# Validating the approach\n",
        "# Setting aside a validation set\n",
        "\n",
        "x_review_val = x_review_train[:10000]\n",
        "partial_x_review_train = x_review_train[10000:]\n",
        "y_sentiment_val = y_sentiment_train[:10000]\n",
        "partial_y_sentiment_train = y_sentiment_train[10000:]\n"
      ],
      "metadata": {
        "id": "3nfTOWzxoPyj"
      },
      "execution_count": 40,
      "outputs": []
    },
    {
      "cell_type": "code",
      "source": [
        "# Training the model\n",
        "history = sentiment_model.fit(partial_x_review_train,\n",
        "                              partial_y_sentiment_train,\n",
        "                              epochs=20,\n",
        "                              batch_size=512,\n",
        "                              validation_data=(x_review_val, y_sentiment_val))\n"
      ],
      "metadata": {
        "colab": {
          "base_uri": "https://localhost:8080/"
        },
        "id": "3aHu3a_uowq4",
        "outputId": "ad62c0ab-319d-4042-d4c6-f5f59477a073"
      },
      "execution_count": 41,
      "outputs": [
        {
          "output_type": "stream",
          "name": "stdout",
          "text": [
            "Epoch 1/20\n",
            "\u001b[1m30/30\u001b[0m \u001b[32m━━━━━━━━━━━━━━━━━━━━\u001b[0m\u001b[37m\u001b[0m \u001b[1m3s\u001b[0m 69ms/step - accuracy: 0.6411 - loss: 0.6781 - val_accuracy: 0.8623 - val_loss: 0.2734\n",
            "Epoch 2/20\n",
            "\u001b[1m30/30\u001b[0m \u001b[32m━━━━━━━━━━━━━━━━━━━━\u001b[0m\u001b[37m\u001b[0m \u001b[1m2s\u001b[0m 53ms/step - accuracy: 0.8642 - loss: 0.2370 - val_accuracy: 0.8517 - val_loss: 0.1810\n",
            "Epoch 3/20\n",
            "\u001b[1m30/30\u001b[0m \u001b[32m━━━━━━━━━━━━━━━━━━━━\u001b[0m\u001b[37m\u001b[0m \u001b[1m3s\u001b[0m 55ms/step - accuracy: 0.8795 - loss: 0.1562 - val_accuracy: 0.8803 - val_loss: 0.1394\n",
            "Epoch 4/20\n",
            "\u001b[1m30/30\u001b[0m \u001b[32m━━━━━━━━━━━━━━━━━━━━\u001b[0m\u001b[37m\u001b[0m \u001b[1m2s\u001b[0m 58ms/step - accuracy: 0.9003 - loss: 0.1248 - val_accuracy: 0.8785 - val_loss: 0.1320\n",
            "Epoch 5/20\n",
            "\u001b[1m30/30\u001b[0m \u001b[32m━━━━━━━━━━━━━━━━━━━━\u001b[0m\u001b[37m\u001b[0m \u001b[1m2s\u001b[0m 49ms/step - accuracy: 0.9107 - loss: 0.1132 - val_accuracy: 0.8457 - val_loss: 0.1565\n",
            "Epoch 6/20\n",
            "\u001b[1m30/30\u001b[0m \u001b[32m━━━━━━━━━━━━━━━━━━━━\u001b[0m\u001b[37m\u001b[0m \u001b[1m3s\u001b[0m 55ms/step - accuracy: 0.9076 - loss: 0.1107 - val_accuracy: 0.8425 - val_loss: 0.1576\n",
            "Epoch 7/20\n",
            "\u001b[1m30/30\u001b[0m \u001b[32m━━━━━━━━━━━━━━━━━━━━\u001b[0m\u001b[37m\u001b[0m \u001b[1m2s\u001b[0m 44ms/step - accuracy: 0.8974 - loss: 0.1164 - val_accuracy: 0.8777 - val_loss: 0.1275\n",
            "Epoch 8/20\n",
            "\u001b[1m30/30\u001b[0m \u001b[32m━━━━━━━━━━━━━━━━━━━━\u001b[0m\u001b[37m\u001b[0m \u001b[1m1s\u001b[0m 43ms/step - accuracy: 0.9267 - loss: 0.0955 - val_accuracy: 0.8759 - val_loss: 0.1311\n",
            "Epoch 9/20\n",
            "\u001b[1m30/30\u001b[0m \u001b[32m━━━━━━━━━━━━━━━━━━━━\u001b[0m\u001b[37m\u001b[0m \u001b[1m3s\u001b[0m 69ms/step - accuracy: 0.9254 - loss: 0.0953 - val_accuracy: 0.8757 - val_loss: 0.1305\n",
            "Epoch 10/20\n",
            "\u001b[1m30/30\u001b[0m \u001b[32m━━━━━━━━━━━━━━━━━━━━\u001b[0m\u001b[37m\u001b[0m \u001b[1m2s\u001b[0m 42ms/step - accuracy: 0.9243 - loss: 0.0947 - val_accuracy: 0.8746 - val_loss: 0.1290\n",
            "Epoch 11/20\n",
            "\u001b[1m30/30\u001b[0m \u001b[32m━━━━━━━━━━━━━━━━━━━━\u001b[0m\u001b[37m\u001b[0m \u001b[1m1s\u001b[0m 42ms/step - accuracy: 0.9210 - loss: 0.0957 - val_accuracy: 0.8640 - val_loss: 0.1366\n",
            "Epoch 12/20\n",
            "\u001b[1m30/30\u001b[0m \u001b[32m━━━━━━━━━━━━━━━━━━━━\u001b[0m\u001b[37m\u001b[0m \u001b[1m2s\u001b[0m 52ms/step - accuracy: 0.9261 - loss: 0.0908 - val_accuracy: 0.8302 - val_loss: 0.1680\n",
            "Epoch 13/20\n",
            "\u001b[1m30/30\u001b[0m \u001b[32m━━━━━━━━━━━━━━━━━━━━\u001b[0m\u001b[37m\u001b[0m \u001b[1m1s\u001b[0m 41ms/step - accuracy: 0.9226 - loss: 0.0932 - val_accuracy: 0.8517 - val_loss: 0.1517\n",
            "Epoch 14/20\n",
            "\u001b[1m30/30\u001b[0m \u001b[32m━━━━━━━━━━━━━━━━━━━━\u001b[0m\u001b[37m\u001b[0m \u001b[1m1s\u001b[0m 42ms/step - accuracy: 0.9308 - loss: 0.0869 - val_accuracy: 0.8548 - val_loss: 0.1485\n",
            "Epoch 15/20\n",
            "\u001b[1m30/30\u001b[0m \u001b[32m━━━━━━━━━━━━━━━━━━━━\u001b[0m\u001b[37m\u001b[0m \u001b[1m1s\u001b[0m 41ms/step - accuracy: 0.9349 - loss: 0.0834 - val_accuracy: 0.8781 - val_loss: 0.1255\n",
            "Epoch 16/20\n",
            "\u001b[1m30/30\u001b[0m \u001b[32m━━━━━━━━━━━━━━━━━━━━\u001b[0m\u001b[37m\u001b[0m \u001b[1m2s\u001b[0m 52ms/step - accuracy: 0.9442 - loss: 0.0767 - val_accuracy: 0.8504 - val_loss: 0.1504\n",
            "Epoch 17/20\n",
            "\u001b[1m30/30\u001b[0m \u001b[32m━━━━━━━━━━━━━━━━━━━━\u001b[0m\u001b[37m\u001b[0m \u001b[1m2s\u001b[0m 52ms/step - accuracy: 0.9442 - loss: 0.0759 - val_accuracy: 0.8763 - val_loss: 0.1284\n",
            "Epoch 18/20\n",
            "\u001b[1m30/30\u001b[0m \u001b[32m━━━━━━━━━━━━━━━━━━━━\u001b[0m\u001b[37m\u001b[0m \u001b[1m2s\u001b[0m 41ms/step - accuracy: 0.9487 - loss: 0.0722 - val_accuracy: 0.8759 - val_loss: 0.1298\n",
            "Epoch 19/20\n",
            "\u001b[1m30/30\u001b[0m \u001b[32m━━━━━━━━━━━━━━━━━━━━\u001b[0m\u001b[37m\u001b[0m \u001b[1m1s\u001b[0m 41ms/step - accuracy: 0.9439 - loss: 0.0749 - val_accuracy: 0.8765 - val_loss: 0.1273\n",
            "Epoch 20/20\n",
            "\u001b[1m30/30\u001b[0m \u001b[32m━━━━━━━━━━━━━━━━━━━━\u001b[0m\u001b[37m\u001b[0m \u001b[1m1s\u001b[0m 41ms/step - accuracy: 0.9480 - loss: 0.0711 - val_accuracy: 0.8657 - val_loss: 0.1372\n"
          ]
        }
      ]
    },
    {
      "cell_type": "code",
      "source": [
        "# Accessing the history of the training process\n",
        "history_data = history.history\n",
        "history_data.keys()\n"
      ],
      "metadata": {
        "colab": {
          "base_uri": "https://localhost:8080/"
        },
        "id": "ArNC5-yUpI-I",
        "outputId": "9c1869d6-ef2f-40de-cfe4-41a94480ef8b"
      },
      "execution_count": 42,
      "outputs": [
        {
          "output_type": "execute_result",
          "data": {
            "text/plain": [
              "dict_keys(['accuracy', 'loss', 'val_accuracy', 'val_loss'])"
            ]
          },
          "metadata": {},
          "execution_count": 42
        }
      ]
    },
    {
      "cell_type": "code",
      "source": [
        "# Plotting the training and validation loss\n",
        "import matplotlib.pyplot as plt\n",
        "\n",
        "history_data = history.history\n",
        "training_loss_values = history_data[\"loss\"]\n",
        "validation_loss_values = history_data[\"val_loss\"]\n",
        "epochs = range(1, len(training_loss_values) + 1)\n",
        "\n",
        "plt.plot(epochs, training_loss_values, \"r-\", label=\"Training Loss\")  # Red dashed line for training loss\n",
        "plt.plot(epochs, validation_loss_values, \"g--\", label=\"Validation Loss\")  # Green dashed line for validation loss\n",
        "\n",
        "# Adding labels and title\n",
        "plt.title(\"Training and Validation Loss over Epochs\")\n",
        "plt.xlabel(\"Epochs\")\n",
        "plt.ylabel(\"Loss\")\n",
        "plt.legend()\n",
        "plt.show()\n",
        "\n"
      ],
      "metadata": {
        "colab": {
          "base_uri": "https://localhost:8080/",
          "height": 472
        },
        "id": "CNUcjXL-plXJ",
        "outputId": "c4ea4f38-f802-4335-9642-bc3b88f8d4d0"
      },
      "execution_count": 46,
      "outputs": [
        {
          "output_type": "display_data",
          "data": {
            "text/plain": [
              "<Figure size 640x480 with 1 Axes>"
            ],
            "image/png": "[encoded data removed]"
          },
          "metadata": {}
        }
      ]
    },
    {
      "cell_type": "code",
      "source": [
        "# Plotting the training and validation accuracy\n",
        "plt.clf()\n",
        "\n",
        "accuracy = history_data[\"accuracy\"]\n",
        "validation_accuracy = history_data[\"val_accuracy\"]\n",
        "\n",
        "plt.plot(epochs, accuracy, \"g-\", label=\"Training Accuracy\")  # Green solid line for training accuracy\n",
        "plt.plot(epochs, validation_accuracy, \"y--\", label=\"Validation Accuracy\")  # Yellow dashed line for validation accuracy\n",
        "\n",
        "# Adding labels and title\n",
        "plt.title(\"Training and Validation Accuracy over Epochs\")\n",
        "plt.xlabel(\"Epochs\")\n",
        "plt.ylabel(\"Accuracy\")\n",
        "plt.legend()\n",
        "plt.show()\n"
      ],
      "metadata": {
        "colab": {
          "base_uri": "https://localhost:8080/",
          "height": 472
        },
        "id": "hiu-yGz0rGjA",
        "outputId": "225fb718-f4f4-4095-d391-85f36f380710"
      },
      "execution_count": 47,
      "outputs": [
        {
          "output_type": "display_data",
          "data": {
            "text/plain": [
              "<Figure size 640x480 with 1 Axes>"
            ],
            "image/png": "[encoded data removed]"
          },
          "metadata": {}
        }
      ]
    },
    {
      "cell_type": "code",
      "source": [
        "# Evaluating the model on the test data\n",
        "results = sentiment_model.evaluate(x_review_test, y_sentiment_test)\n"
      ],
      "metadata": {
        "colab": {
          "base_uri": "https://localhost:8080/"
        },
        "id": "Uo9MHCEdrlYx",
        "outputId": "e6f8b228-1744-4f7f-d32a-66878927f789"
      },
      "execution_count": 48,
      "outputs": [
        {
          "output_type": "stream",
          "name": "stdout",
          "text": [
            "\u001b[1m782/782\u001b[0m \u001b[32m━━━━━━━━━━━━━━━━━━━━\u001b[0m\u001b[37m\u001b[0m \u001b[1m5s\u001b[0m 6ms/step - accuracy: 0.8536 - loss: 0.1447\n"
          ]
        }
      ]
    },
    {
      "cell_type": "code",
      "source": [
        "# Displaying the evaluation results\n",
        "results\n"
      ],
      "metadata": {
        "colab": {
          "base_uri": "https://localhost:8080/"
        },
        "id": "10RmYKHKryLQ",
        "outputId": "f023d910-1bbf-4773-fe28-84934a3b0fbb"
      },
      "execution_count": 50,
      "outputs": [
        {
          "output_type": "execute_result",
          "data": {
            "text/plain": [
              "[0.14395712316036224, 0.8553599715232849]"
            ]
          },
          "metadata": {},
          "execution_count": 50
        }
      ]
    },
    {
      "cell_type": "code",
      "source": [
        "#Model Stability With More Layers Deeper models with more layers and nodes appear to be more stable and effective at capturing complex patterns.\n",
        "\n",
        "#Effectiveness Of Dropout Dropout regularization helps prevent overfitting, improving generalization and model stability.\n",
        "\n",
        "#MSE For Classification using MSE as the loss function in a classification task may still work, though typically binary crossentropy is preferred for better performance.\n",
        "\n",
        "\n",
        "# Retraining a model from scratch\n",
        "sentiment_model = keras.Sequential([\n",
        "    layers.Dense(64, kernel_regularizer=regularizers.l2(0.005), activation=\"tanh\"),\n",
        "    layers.Dropout(0.5),\n",
        "    layers.Dense(64, activation=\"tanh\"),\n",
        "    layers.Dropout(0.5),\n",
        "    layers.Dense(64, activation=\"tanh\"),\n",
        "    layers.Dropout(0.5),\n",
        "    layers.Dense(1, activation=\"sigmoid\")\n",
        "])\n",
        "\n",
        "sentiment_model.compile(optimizer=\"adam\",\n",
        "                        loss=\"mse\",\n",
        "                        metrics=[\"accuracy\"])\n",
        "\n",
        "# Training the model\n",
        "sentiment_model.fit(x_review_train, y_sentiment_train, epochs=4, batch_size=512)\n",
        "\n",
        "# Evaluating the model\n",
        "results = sentiment_model.evaluate(x_review_test, y_sentiment_test)\n"
      ],
      "metadata": {
        "colab": {
          "base_uri": "https://localhost:8080/"
        },
        "id": "CswjWLcDs0Kw",
        "outputId": "ae8c699c-c1f4-47bf-81d8-9ee10b68f5f2"
      },
      "execution_count": 51,
      "outputs": [
        {
          "output_type": "stream",
          "name": "stdout",
          "text": [
            "Epoch 1/4\n",
            "\u001b[1m49/49\u001b[0m \u001b[32m━━━━━━━━━━━━━━━━━━━━\u001b[0m\u001b[37m\u001b[0m \u001b[1m4s\u001b[0m 35ms/step - accuracy: 0.6903 - loss: 0.5418\n",
            "Epoch 2/4\n",
            "\u001b[1m49/49\u001b[0m \u001b[32m━━━━━━━━━━━━━━━━━━━━\u001b[0m\u001b[37m\u001b[0m \u001b[1m2s\u001b[0m 34ms/step - accuracy: 0.8980 - loss: 0.1525\n",
            "Epoch 3/4\n",
            "\u001b[1m49/49\u001b[0m \u001b[32m━━━━━━━━━━━━━━━━━━━━\u001b[0m\u001b[37m\u001b[0m \u001b[1m3s\u001b[0m 47ms/step - accuracy: 0.9059 - loss: 0.1431\n",
            "Epoch 4/4\n",
            "\u001b[1m49/49\u001b[0m \u001b[32m━━━━━━━━━━━━━━━━━━━━\u001b[0m\u001b[37m\u001b[0m \u001b[1m2s\u001b[0m 33ms/step - accuracy: 0.9082 - loss: 0.1393\n",
            "\u001b[1m782/782\u001b[0m \u001b[32m━━━━━━━━━━━━━━━━━━━━\u001b[0m\u001b[37m\u001b[0m \u001b[1m3s\u001b[0m 4ms/step - accuracy: 0.8752 - loss: 0.1624\n"
          ]
        }
      ]
    },
    {
      "cell_type": "code",
      "source": [
        "# Displaying the evaluation results of the model\n",
        "print(results)\n"
      ],
      "metadata": {
        "colab": {
          "base_uri": "https://localhost:8080/"
        },
        "id": "zGnQwUUctqlc",
        "outputId": "c28549a4-e94c-4085-b847-4b74bad1775f"
      },
      "execution_count": 53,
      "outputs": [
        {
          "output_type": "stream",
          "name": "stdout",
          "text": [
            "[0.16133706271648407, 0.8767600059509277]\n"
          ]
        }
      ]
    }
  ]
}